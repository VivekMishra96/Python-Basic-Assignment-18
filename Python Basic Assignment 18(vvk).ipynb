{
 "cells": [
  {
   "cell_type": "code",
   "execution_count": null,
   "id": "4830e1df",
   "metadata": {},
   "outputs": [],
   "source": [
    "1. Create a zoo.py file first. Define the hours() function, which prints the string 'Open 9-5 daily'. Then, use the interactive interpreter to import the zoo module and call its hours() function."
   ]
  },
  {
   "cell_type": "code",
   "execution_count": 1,
   "id": "94c09f9a",
   "metadata": {},
   "outputs": [
    {
     "data": {
      "text/plain": [
       "<_io.TextIOWrapper name='zoo.py' mode='w' encoding='cp1252'>"
      ]
     },
     "execution_count": 1,
     "metadata": {},
     "output_type": "execute_result"
    }
   ],
   "source": [
    "#ans.\n",
    "open(\"zoo.py\",\"w\")"
   ]
  },
  {
   "cell_type": "code",
   "execution_count": 3,
   "id": "6071d844",
   "metadata": {},
   "outputs": [],
   "source": [
    "def hours():\n",
    "    print('open 9-5 daily')"
   ]
  },
  {
   "cell_type": "code",
   "execution_count": 4,
   "id": "863bb22e",
   "metadata": {},
   "outputs": [],
   "source": [
    "import zoo"
   ]
  },
  {
   "cell_type": "code",
   "execution_count": 5,
   "id": "e3b58870",
   "metadata": {},
   "outputs": [
    {
     "name": "stdout",
     "output_type": "stream",
     "text": [
      "open 9-5 daily\n"
     ]
    }
   ],
   "source": [
    "hours()"
   ]
  },
  {
   "cell_type": "code",
   "execution_count": null,
   "id": "1efec191",
   "metadata": {},
   "outputs": [],
   "source": [
    "2. In the interactive interpreter, import the zoo module as menagerie and call its hours() function."
   ]
  },
  {
   "cell_type": "code",
   "execution_count": 6,
   "id": "c1023061",
   "metadata": {},
   "outputs": [],
   "source": [
    "#ans\n",
    "import zoo as menagerie "
   ]
  },
  {
   "cell_type": "code",
   "execution_count": 7,
   "id": "31b3995b",
   "metadata": {},
   "outputs": [
    {
     "name": "stdout",
     "output_type": "stream",
     "text": [
      "open 9-5 daily\n"
     ]
    }
   ],
   "source": [
    "hours()"
   ]
  },
  {
   "cell_type": "code",
   "execution_count": null,
   "id": "1bcddb2c",
   "metadata": {},
   "outputs": [],
   "source": [
    "3. Using the interpreter, explicitly import and call the hours() function from zoo."
   ]
  },
  {
   "cell_type": "code",
   "execution_count": 10,
   "id": "715a9aee",
   "metadata": {},
   "outputs": [],
   "source": [
    "#ans.\n",
    "from zoo import hours"
   ]
  },
  {
   "cell_type": "code",
   "execution_count": 11,
   "id": "11677595",
   "metadata": {},
   "outputs": [
    {
     "name": "stdout",
     "output_type": "stream",
     "text": [
      "open 9-5 daily\n"
     ]
    }
   ],
   "source": [
    "hours()"
   ]
  },
  {
   "cell_type": "code",
   "execution_count": null,
   "id": "a5f5caf9",
   "metadata": {},
   "outputs": [],
   "source": [
    "4.Import the hours() function as info and call it."
   ]
  },
  {
   "cell_type": "code",
   "execution_count": 12,
   "id": "9e64a35b",
   "metadata": {},
   "outputs": [],
   "source": [
    "#ans.\n",
    "from zoo import hours as info"
   ]
  },
  {
   "cell_type": "code",
   "execution_count": 13,
   "id": "095d6a03",
   "metadata": {},
   "outputs": [
    {
     "name": "stdout",
     "output_type": "stream",
     "text": [
      "open 9-5 daily\n"
     ]
    }
   ],
   "source": [
    "info()"
   ]
  },
  {
   "cell_type": "code",
   "execution_count": null,
   "id": "a8b5c7d3",
   "metadata": {},
   "outputs": [],
   "source": [
    "5.Create a plain dictionary with the key-value pairs 'a': 1, 'b': 2, and 'c': 3, and print it out."
   ]
  },
  {
   "cell_type": "code",
   "execution_count": 14,
   "id": "a03525bf",
   "metadata": {},
   "outputs": [
    {
     "name": "stdout",
     "output_type": "stream",
     "text": [
      "{'a': 1, 'b': 2, 'c': 3}\n"
     ]
    }
   ],
   "source": [
    "#ans.\n",
    "plain_dict={'a':1,'b':2,'c':3}\n",
    "print(plain_dict)"
   ]
  },
  {
   "cell_type": "code",
   "execution_count": 15,
   "id": "8c851b68",
   "metadata": {},
   "outputs": [
    {
     "data": {
      "text/plain": [
       "{'a': 1, 'b': 2, 'c': 3}"
      ]
     },
     "execution_count": 15,
     "metadata": {},
     "output_type": "execute_result"
    }
   ],
   "source": [
    "plain_dict"
   ]
  },
  {
   "cell_type": "code",
   "execution_count": null,
   "id": "0bce8b5e",
   "metadata": {},
   "outputs": [],
   "source": [
    "6..Make an OrderedDict called fancy from the same pairs listed in 5 and print it. Did it print in the same order as plain?"
   ]
  },
  {
   "cell_type": "code",
   "execution_count": 16,
   "id": "67e8fdee",
   "metadata": {},
   "outputs": [],
   "source": [
    "#ans.\n",
    "from collections import OrderedDict"
   ]
  },
  {
   "cell_type": "code",
   "execution_count": 17,
   "id": "40dee17e",
   "metadata": {},
   "outputs": [],
   "source": [
    "fancy = OrderedDict([('a', 1), ('b', 2), ('c', 3)])"
   ]
  },
  {
   "cell_type": "code",
   "execution_count": 18,
   "id": "eb3fdc69",
   "metadata": {},
   "outputs": [
    {
     "data": {
      "text/plain": [
       "OrderedDict([('a', 1), ('b', 2), ('c', 3)])"
      ]
     },
     "execution_count": 18,
     "metadata": {},
     "output_type": "execute_result"
    }
   ],
   "source": [
    "fancy"
   ]
  },
  {
   "cell_type": "code",
   "execution_count": null,
   "id": "ee4dda41",
   "metadata": {},
   "outputs": [],
   "source": [
    "7. Make a default dictionary called dict_of_lists and pass it the argument list. Make the list dict_of_lists['a'] and append the value 'something for a' to it in one assignment. Print dict_of_lists['a']."
   ]
  },
  {
   "cell_type": "code",
   "execution_count": 19,
   "id": "7600f539",
   "metadata": {},
   "outputs": [],
   "source": [
    "#ans.\n",
    "from collections import defaultdict"
   ]
  },
  {
   "cell_type": "code",
   "execution_count": 20,
   "id": "c3624d59",
   "metadata": {},
   "outputs": [],
   "source": [
    "dict_of_lists = defaultdict(list)"
   ]
  },
  {
   "cell_type": "code",
   "execution_count": 21,
   "id": "7f127410",
   "metadata": {},
   "outputs": [],
   "source": [
    "dict_of_lists['a'].append('something for a')"
   ]
  },
  {
   "cell_type": "code",
   "execution_count": 22,
   "id": "8caf1d70",
   "metadata": {},
   "outputs": [
    {
     "data": {
      "text/plain": [
       "['something for a']"
      ]
     },
     "execution_count": 22,
     "metadata": {},
     "output_type": "execute_result"
    }
   ],
   "source": [
    "dict_of_lists['a']"
   ]
  },
  {
   "cell_type": "code",
   "execution_count": null,
   "id": "6b9787d9",
   "metadata": {},
   "outputs": [],
   "source": []
  },
  {
   "cell_type": "code",
   "execution_count": null,
   "id": "3e3a1289",
   "metadata": {},
   "outputs": [],
   "source": []
  }
 ],
 "metadata": {
  "kernelspec": {
   "display_name": "Python 3 (ipykernel)",
   "language": "python",
   "name": "python3"
  },
  "language_info": {
   "codemirror_mode": {
    "name": "ipython",
    "version": 3
   },
   "file_extension": ".py",
   "mimetype": "text/x-python",
   "name": "python",
   "nbconvert_exporter": "python",
   "pygments_lexer": "ipython3",
   "version": "3.9.7"
  }
 },
 "nbformat": 4,
 "nbformat_minor": 5
}
